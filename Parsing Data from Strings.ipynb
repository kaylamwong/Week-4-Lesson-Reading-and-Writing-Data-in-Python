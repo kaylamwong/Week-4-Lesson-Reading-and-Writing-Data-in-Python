{
 "cells": [
  {
   "cell_type": "markdown",
   "id": "97fd3b43",
   "metadata": {},
   "source": [
    "# Parsing Data From Strings"
   ]
  },
  {
   "cell_type": "code",
   "execution_count": 1,
   "id": "7b43e5ed",
   "metadata": {},
   "outputs": [],
   "source": [
    "def my_parse_int(s): \n",
    "    output = 0 \n",
    "    for c in s: \n",
    "        output = output * 10 + ord(c) - ord('0') \n",
    "        print('TEMP', output)\n",
    "    return output \n",
    "                            "
   ]
  },
  {
   "cell_type": "code",
   "execution_count": 2,
   "id": "a885afe2",
   "metadata": {},
   "outputs": [
    {
     "name": "stdout",
     "output_type": "stream",
     "text": [
      "TEMP 1\n",
      "TEMP 12\n",
      "TEMP 123\n",
      "TEMP 1234\n"
     ]
    },
    {
     "data": {
      "text/plain": [
       "1234"
      ]
     },
     "execution_count": 2,
     "metadata": {},
     "output_type": "execute_result"
    }
   ],
   "source": [
    "my_parse_int('1234')"
   ]
  },
  {
   "cell_type": "code",
   "execution_count": 3,
   "id": "cb7b8f23",
   "metadata": {},
   "outputs": [
    {
     "data": {
      "text/plain": [
       "48"
      ]
     },
     "execution_count": 3,
     "metadata": {},
     "output_type": "execute_result"
    }
   ],
   "source": [
    "ord('0')"
   ]
  },
  {
   "cell_type": "code",
   "execution_count": 4,
   "id": "de6a6904",
   "metadata": {},
   "outputs": [
    {
     "data": {
      "text/plain": [
       "49"
      ]
     },
     "execution_count": 4,
     "metadata": {},
     "output_type": "execute_result"
    }
   ],
   "source": [
    "ord('1') "
   ]
  },
  {
   "cell_type": "code",
   "execution_count": 5,
   "id": "857a6ae4",
   "metadata": {},
   "outputs": [
    {
     "data": {
      "text/plain": [
       "50"
      ]
     },
     "execution_count": 5,
     "metadata": {},
     "output_type": "execute_result"
    }
   ],
   "source": [
    "ord('2')"
   ]
  },
  {
   "cell_type": "code",
   "execution_count": 6,
   "id": "8d05b247",
   "metadata": {},
   "outputs": [
    {
     "data": {
      "text/plain": [
       "9"
      ]
     },
     "execution_count": 6,
     "metadata": {},
     "output_type": "execute_result"
    }
   ],
   "source": [
    "ord('9') - ord('0')"
   ]
  },
  {
   "cell_type": "code",
   "execution_count": 7,
   "id": "0f9b69d4",
   "metadata": {},
   "outputs": [
    {
     "name": "stdout",
     "output_type": "stream",
     "text": [
      "TEMP 1\n",
      "TEMP 12\n",
      "TEMP 123\n",
      "TEMP 1279\n",
      "TEMP 12840\n",
      "TEMP 128451\n"
     ]
    },
    {
     "data": {
      "text/plain": [
       "128451"
      ]
     },
     "execution_count": 7,
     "metadata": {},
     "output_type": "execute_result"
    }
   ],
   "source": [
    "my_parse_int('123abc')"
   ]
  }
 ],
 "metadata": {
  "kernelspec": {
   "display_name": "Python 3",
   "language": "python",
   "name": "python3"
  },
  "language_info": {
   "codemirror_mode": {
    "name": "ipython",
    "version": 3
   },
   "file_extension": ".py",
   "mimetype": "text/x-python",
   "name": "python",
   "nbconvert_exporter": "python",
   "pygments_lexer": "ipython3",
   "version": "3.12.1"
  }
 },
 "nbformat": 4,
 "nbformat_minor": 5
}
