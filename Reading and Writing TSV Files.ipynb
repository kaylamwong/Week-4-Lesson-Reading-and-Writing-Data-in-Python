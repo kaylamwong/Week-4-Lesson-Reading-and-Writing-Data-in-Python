{
 "cells": [
  {
   "cell_type": "markdown",
   "id": "20742a6c",
   "metadata": {},
   "source": [
    "# Reading and Writing TSV Files "
   ]
  },
  {
   "cell_type": "code",
   "execution_count": 1,
   "id": "02d2bcbd",
   "metadata": {},
   "outputs": [],
   "source": [
    "def read_tsv_lists(filename):\n",
    "    with open(filename) as fp:\n",
    "        for line in fp:\n",
    "            # strip newline at end of the line\n",
    "            line = line.rstrip(\"\\n\")\n",
    "            yield line.split(\"\\t\")"
   ]
  },
  {
   "cell_type": "markdown",
   "id": "b75d6fd5",
   "metadata": {},
   "source": [
    "- The string method str.rstrip removes the specified characters at the end of the line. In this case, it is being used to strip the newline character '\\n' marking the end of the line. Each line except the last one will end with the newline character, but it is not really data, just a separator between lines.\n",
    "- The string method str.split breaks up the original string and returns the pieces in a list. The original string is not actually changed.\n",
    "- Sometimes functions like this are written to return tuples of data to discourage accidental changes. This requires marginal extra code - just add tuple() to the yield statement. However, this makes changes like parsing numbers from strings more inconvenient, so its probably better to leave it as a list.\n",
    "- All the values in the returned rows will be strings. You will eventually want to convert them to other types.\n",
    "- This code is unlikely to have errors if the file exists and you can read it, but unexpected results may happen if the columns are inconsistent.\n",
    "    - This code has no checks if the number of columns in each row are the same. Usually, you should at least check if the number matches the header (first) row."
   ]
  },
  {
   "cell_type": "markdown",
   "id": "4c3ee4bd",
   "metadata": {},
   "source": [
    "# Reading a TSV File into Dictionaries "
   ]
  },
  {
   "cell_type": "code",
   "execution_count": 2,
   "id": "4e2401e8",
   "metadata": {},
   "outputs": [],
   "source": [
    "def read_tsv_dictionaries(filename):\n",
    "    with open(filename) as fp:\n",
    "        def parse_line(line):\n",
    "            return line.rstrip(\"\\n\").split(\"\\t\")\n",
    " \n",
    "        header = parse_line(next(fp))\n",
    "        for line in fp:\n",
    "            line = parse_line(line)\n",
    "            yield dict(zip(header, line))"
   ]
  },
  {
   "cell_type": "markdown",
   "id": "adfd5aa1",
   "metadata": {},
   "source": [
    "- The nested function parse_line is for convenience to avoid repeating the logic for stripping newlines and splitting on tabs. It does not access any variables from the surrounding scope, but itself is scoped so only code inside the with statement can access it.\n",
    "- The header variable is a list populated by parsing the first line of the file.\n",
    "- This function uses three built-in functions that we haven't mentioned before.\n",
    "    - The built-in function next returns the next output from an iterator. In this case, it was the first line from the file.\n",
    "    - The built-in function dict takes in an iterable of pairs (sequences of length two) and populates a dictionary. The first value of each pair becomes a key, and the second value of each pair is that key's value.\n",
    "    - The built-in function zip takes two or more iterables, repeatedly takes a value from each, and yields a tuple of those values. The name is an analogy to zipping up a zipper - two sides are becoming paired together. In this usage, the column names in the header variable are being paired with the values in the line variable.\n",
    "- This code will raise an exception when next is called if the file is empty\n",
    "    - This means that the file does not even have a header row, and your assumptions about this being a valid data file were wrong. If you catch this exception, you should probably report which file the error, and then raise an exception again since your process is unlikely to work with this file empty.\n",
    "- If rows after the header have different numbers of values, this code will continue without an exception, but you may be surprised later since the dictionaries are not as expected\n",
    "    - If there are fewer values than expected, then the code will implicitly assume that these values should be matched to the first column names in the header, and the dictionary will be missing the later keys. You will see the KeyError exception when trying to access those keys.\n",
    "    - If there are more values than expected, then they will be silently dropped by the zip function.\n",
    "    - If you want to catch these cases, you can add an explicit length comparison (len(header) != len(line)) and code your own response, or add strict=True to the zip call which will make it raise a ValueError if the lengths do not match."
   ]
  },
  {
   "cell_type": "markdown",
   "id": "ec837f73",
   "metadata": {},
   "source": [
    "# Writing a TSV File in Python"
   ]
  },
  {
   "cell_type": "code",
   "execution_count": 4,
   "id": "9530f416",
   "metadata": {},
   "outputs": [],
   "source": [
    "def write_tsv(filename, column_names, rows):\n",
    "    with open(filename, \"w\") as fp: # \"w\" mode- file will be opened for writing, and any existing content in the file will be truncated (deleted)\n",
    "        def write_line(row):\n",
    "            fp.write(\"\\t\".join(str(v) for v in row) + \"\\n\")\n",
    " \n",
    "        write_line(column_names)\n",
    "        for row in rows:\n",
    "            write_line(row)"
   ]
  },
  {
   "cell_type": "markdown",
   "id": "266bd426",
   "metadata": {},
   "source": [
    "- This function assumes that str is adequate to convert all of the values to strings.\n",
    "- The nested function write_line writes one line to the file with its input row converted to strings.\n",
    "    - Unlike the previous nested function example, it uses the variable fp from the surrounding scope.\n",
    "    - The file object fp's method .write takes in a string and writes it to the file. Unlike the print function, it does not automatically add a new line at the end, so it needs to be explicitly included.\n",
    "- The string method str.join takes in a sequence of strings and joins them together separated by the original string.\n",
    "    - \"\\t\".join([\"a\", \"b\", \"c\"]) returns \"a+b+c\"\n",
    "- This function could be modified to handle dictionary rows by changing the write_line(row) line to pass a list or generator comprehension to write_line to fetch the values in the right order.\n",
    "    - If you make that modification, you should \"freeze\" column_names as a list so that you can iterate over it multiple times.\n"
   ]
  }
 ],
 "metadata": {
  "kernelspec": {
   "display_name": "Python 3",
   "language": "python",
   "name": "python3"
  },
  "language_info": {
   "codemirror_mode": {
    "name": "ipython",
    "version": 3
   },
   "file_extension": ".py",
   "mimetype": "text/x-python",
   "name": "python",
   "nbconvert_exporter": "python",
   "pygments_lexer": "ipython3",
   "version": "3.12.1"
  }
 },
 "nbformat": 4,
 "nbformat_minor": 5
}
