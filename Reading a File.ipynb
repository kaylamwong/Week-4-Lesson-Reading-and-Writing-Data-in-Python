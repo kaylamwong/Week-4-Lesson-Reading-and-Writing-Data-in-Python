{
 "cells": [
  {
   "cell_type": "markdown",
   "id": "86b3f541",
   "metadata": {},
   "source": [
    "# Reading a File"
   ]
  },
  {
   "cell_type": "code",
   "execution_count": 1,
   "id": "e9f15b46",
   "metadata": {},
   "outputs": [],
   "source": [
    "def read_file_at_once(filename):\n",
    "    output = []\n",
    "    with open(filename) as fp:\n",
    "        for line in fp:\n",
    "            output.append(line)\n",
    " \n",
    "    return output"
   ]
  },
  {
   "cell_type": "markdown",
   "id": "a3e13a85",
   "metadata": {},
   "source": [
    "- This function uses a new with statement syntax\n",
    "    - In this case, a new variable fp is created with the result of open(filename) which represents the open file\n",
    "    - At the end of the with statement, the open file is closed automatically, even if an exception happened\n",
    "    - This \"context manager\" pattern is often used to manage resource connections, and libraries supporting context managers will give you similar examples to follow\n",
    "- The iterator of fp and other file handles returns lines from the file"
   ]
  },
  {
   "cell_type": "markdown",
   "id": "1977aa3b",
   "metadata": {},
   "source": [
    "# Reading Lines with a Generator "
   ]
  },
  {
   "cell_type": "code",
   "execution_count": 2,
   "id": "b4e69251",
   "metadata": {},
   "outputs": [],
   "source": [
    "def read_file_with_generator(filename):\n",
    "    with open(filename) as fp:\n",
    "        for line in fp:\n",
    "            yield line"
   ]
  },
  {
   "cell_type": "markdown",
   "id": "86d2bc3b",
   "metadata": {},
   "source": [
    "- This function uses a new yield statement which turns the function into a \"generator\" function returning an iterator\n",
    "- The generator version does not need to maintain the output list, saving both code and memory"
   ]
  }
 ],
 "metadata": {
  "kernelspec": {
   "display_name": "Python 3",
   "language": "python",
   "name": "python3"
  },
  "language_info": {
   "codemirror_mode": {
    "name": "ipython",
    "version": 3
   },
   "file_extension": ".py",
   "mimetype": "text/x-python",
   "name": "python",
   "nbconvert_exporter": "python",
   "pygments_lexer": "ipython3",
   "version": "3.12.1"
  }
 },
 "nbformat": 4,
 "nbformat_minor": 5
}
