{
 "cells": [
  {
   "cell_type": "markdown",
   "id": "e541088c",
   "metadata": {},
   "source": [
    "# Reading and Writing JSON Files "
   ]
  },
  {
   "cell_type": "code",
   "execution_count": 3,
   "id": "6cbf7249",
   "metadata": {},
   "outputs": [
    {
     "name": "stdout",
     "output_type": "stream",
     "text": [
      "{\"hi\": [\"this\", \"string\", \"is\", \"in\", \"a\", \"list\"], \"numbers\": [1, 2, 3, 4, 5], \"nothing\": null}\n"
     ]
    }
   ],
   "source": [
    "import json\n",
    "print(json.dumps({\"hi\": [\"this\", \"string\", \"is\", \"in\", \"a\", \"list\"], \"numbers\": [1, 2, 3, 4, 5], \"nothing\": None}))"
   ]
  },
  {
   "cell_type": "code",
   "execution_count": 4,
   "id": "9009eaa0",
   "metadata": {},
   "outputs": [
    {
     "name": "stdout",
     "output_type": "stream",
     "text": [
      "[{'x': {'hi': 'bye', 'hello': 'goodbye'}}, 0, 1, [{'weird': {'weirder': 'stuff'}}, 'some more stuff'], ['a', 'b', 'c']]\n"
     ]
    }
   ],
   "source": [
    "messy_data = [{\"x\": {\"hi\": \"bye\", \"hello\": \"goodbye\"}}, 0, 1, [{\"weird\": {\"weirder\": \"stuff\"}}, \"some more stuff\"], [\"a\", \"b\", \"c\"]]\n",
    "print(messy_data)\n"
   ]
  },
  {
   "cell_type": "markdown",
   "id": "121b4089",
   "metadata": {},
   "source": [
    "- If you just use json.dumps, then the output is pretty similar to Python's default conversion to strings. In this case, most of the change is just changing the quotes to double quotes."
   ]
  },
  {
   "cell_type": "code",
   "execution_count": 5,
   "id": "1e08c76d",
   "metadata": {},
   "outputs": [
    {
     "name": "stdout",
     "output_type": "stream",
     "text": [
      "[{\"x\": {\"hi\": \"bye\", \"hello\": \"goodbye\"}}, 0, 1, [{\"weird\": {\"weirder\": \"stuff\"}}, \"some more stuff\"], [\"a\", \"b\", \"c\"]]\n"
     ]
    }
   ],
   "source": [
    "import json\n",
    "print(json.dumps(messy_data))"
   ]
  },
  {
   "cell_type": "markdown",
   "id": "ee7ebaf1",
   "metadata": {},
   "source": [
    "- But if you add the indent=2 option, then it will add new lines and indentation to the output, and you'll be able to see the structure of the object much better."
   ]
  },
  {
   "cell_type": "code",
   "execution_count": 7,
   "id": "1620dc95",
   "metadata": {},
   "outputs": [
    {
     "name": "stdout",
     "output_type": "stream",
     "text": [
      "[\n",
      "  {\n",
      "    \"x\": {\n",
      "      \"hi\": \"bye\",\n",
      "      \"hello\": \"goodbye\"\n",
      "    }\n",
      "  },\n",
      "  0,\n",
      "  1,\n",
      "  [\n",
      "    {\n",
      "      \"weird\": {\n",
      "        \"weirder\": \"stuff\"\n",
      "      }\n",
      "    },\n",
      "    \"some more stuff\"\n",
      "  ],\n",
      "  [\n",
      "    \"a\",\n",
      "    \"b\",\n",
      "    \"c\"\n",
      "  ]\n",
      "]\n"
     ]
    }
   ],
   "source": [
    "print(json.dumps(messy_data, indent=2))"
   ]
  }
 ],
 "metadata": {
  "kernelspec": {
   "display_name": "Python 3",
   "language": "python",
   "name": "python3"
  },
  "language_info": {
   "codemirror_mode": {
    "name": "ipython",
    "version": 3
   },
   "file_extension": ".py",
   "mimetype": "text/x-python",
   "name": "python",
   "nbconvert_exporter": "python",
   "pygments_lexer": "ipython3",
   "version": "3.12.1"
  }
 },
 "nbformat": 4,
 "nbformat_minor": 5
}
