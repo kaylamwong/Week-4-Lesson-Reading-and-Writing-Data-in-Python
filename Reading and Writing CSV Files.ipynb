{
 "cells": [
  {
   "cell_type": "markdown",
   "id": "5b3235e2",
   "metadata": {},
   "source": [
    "# Reading a CSV File with the CSV Module"
   ]
  },
  {
   "cell_type": "code",
   "execution_count": 1,
   "id": "430f5872",
   "metadata": {},
   "outputs": [],
   "source": [
    "import csv\n",
    "def read_csv_lists(filename):\n",
    "    with open(filename) as file:\n",
    "        reader = csv.reader(file)\n",
    "        for row in reader:\n",
    "            yield row"
   ]
  },
  {
   "cell_type": "markdown",
   "id": "cb693eac",
   "metadata": {},
   "source": [
    "- If you compare this function with read_tsv_lists earlier, the addition of one reader object replaced stripping new lines and splitting the line into multiple values.\n",
    "    - The latter splitting functionality would have been much more complicated than the simple TSV case.\n",
    "- csv.reader has several options for tweaking the dialect read\n",
    "    - Any changes to the dialect options will be made in the csv.reader call, and the following loop will be unchanged."
   ]
  },
  {
   "cell_type": "markdown",
   "id": "fee6872f",
   "metadata": {},
   "source": [
    "# Reading a CSV File into Dictionaries "
   ]
  },
  {
   "cell_type": "code",
   "execution_count": 2,
   "id": "e67091ee",
   "metadata": {},
   "outputs": [],
   "source": [
    "import csv\n",
    "def read_csv_dictionaries():\n",
    "    with open(filename) as file:\n",
    "        reader = csv.DictReader(file)\n",
    "        for row in reader:\n",
    "            yield row"
   ]
  },
  {
   "cell_type": "markdown",
   "id": "0163131d",
   "metadata": {},
   "source": [
    "- The only change from the previous read_csv function is changing the call from csv.reader to csv.DictReader.\n",
    "- csv.DictReader can be similarly configured with options to read different dialects."
   ]
  },
  {
   "cell_type": "markdown",
   "id": "b1b945b0",
   "metadata": {},
   "source": [
    "# Reading TSV Files with the CSV Module"
   ]
  },
  {
   "cell_type": "code",
   "execution_count": 3,
   "id": "4f76f298",
   "metadata": {},
   "outputs": [],
   "source": [
    "import csv\n",
    " \n",
    "def read_tsv_dictionaries_2():\n",
    "    with open(filename) as file:\n",
    "        reader = csv.DictReader(file, dialect=\"excel-tab\")\n",
    "        for row in reader:\n",
    "            yield row"
   ]
  },
  {
   "cell_type": "markdown",
   "id": "42af2533",
   "metadata": {},
   "source": [
    "- The only change is adding the dialect=\"excel-tab\" option.\n",
    "- You could also get this effect with delimiter=\"\\t\" since \\t is the tab character.\n"
   ]
  },
  {
   "cell_type": "code",
   "execution_count": 4,
   "id": "8a6fac43",
   "metadata": {},
   "outputs": [
    {
     "data": {
      "text/plain": [
       "['excel', 'excel-tab', 'unix']"
      ]
     },
     "execution_count": 4,
     "metadata": {},
     "output_type": "execute_result"
    }
   ],
   "source": [
    "import csv\n",
    "csv.list_dialects()"
   ]
  },
  {
   "cell_type": "code",
   "execution_count": 5,
   "id": "1463779b",
   "metadata": {},
   "outputs": [
    {
     "data": {
      "text/plain": [
       "<_csv.Dialect at 0x7181cda6d640>"
      ]
     },
     "execution_count": 5,
     "metadata": {},
     "output_type": "execute_result"
    }
   ],
   "source": [
    "dialect = csv.get_dialect(\"excel-tab\")\n",
    "dialect"
   ]
  },
  {
   "cell_type": "code",
   "execution_count": 6,
   "id": "f9d591c9",
   "metadata": {},
   "outputs": [
    {
     "data": {
      "text/plain": [
       "['__class__',\n",
       " '__delattr__',\n",
       " '__dir__',\n",
       " '__doc__',\n",
       " '__eq__',\n",
       " '__format__',\n",
       " '__ge__',\n",
       " '__getattribute__',\n",
       " '__getstate__',\n",
       " '__gt__',\n",
       " '__hash__',\n",
       " '__init__',\n",
       " '__init_subclass__',\n",
       " '__le__',\n",
       " '__lt__',\n",
       " '__module__',\n",
       " '__ne__',\n",
       " '__new__',\n",
       " '__reduce__',\n",
       " '__reduce_ex__',\n",
       " '__repr__',\n",
       " '__setattr__',\n",
       " '__sizeof__',\n",
       " '__str__',\n",
       " '__subclasshook__',\n",
       " 'delimiter',\n",
       " 'doublequote',\n",
       " 'escapechar',\n",
       " 'lineterminator',\n",
       " 'quotechar',\n",
       " 'quoting',\n",
       " 'skipinitialspace',\n",
       " 'strict']"
      ]
     },
     "execution_count": 6,
     "metadata": {},
     "output_type": "execute_result"
    }
   ],
   "source": [
    "dir(dialect)"
   ]
  },
  {
   "cell_type": "code",
   "execution_count": 7,
   "id": "1c122bee",
   "metadata": {},
   "outputs": [
    {
     "name": "stdout",
     "output_type": "stream",
     "text": [
      "delimiter '\\t'\n",
      "doublequote True\n",
      "escapechar None\n",
      "lineterminator '\\r\\n'\n",
      "quotechar '\"'\n",
      "quoting 0\n",
      "skipinitialspace False\n",
      "strict False\n"
     ]
    }
   ],
   "source": [
    "for attribute in dir(dialect):\n",
    "    if not attribute.startswith(\"_\"):\n",
    "        print(attribute, repr(getattr(dialect, attribute)))"
   ]
  },
  {
   "cell_type": "markdown",
   "id": "9aec2020",
   "metadata": {},
   "source": [
    "- csv.list_dialects returns a list of the available dialects. \"excel-tab\" is included.\n",
    "- csv.get_dialect gives us a dialect object, but converting it into a string is not very helpful.\n",
    "- The built-in function dir was mentioned in week 1, but we have not used it since. It returns a list of the attributes (including methods) of an object, and is handy when trying to learn about an unfamiliar object.\n",
    "- The built-in function getattr returns an object's named attribute. What's an attribute? Anything you can access from the object using the dot notation. So getattr(o, \"foo\") is the same as o.foo. Here, it was used to programmatically look at an unfamiliar object where the attribute names weren't known beforehand.\n",
    "- repr was used for clarity since some of these attributes were non-visible characters; repr changed them to the backslashed expressions.\n",
    "- This dialect is a little fancier than a plain TSV file but is probably fine for most purposes.\n",
    "    - Of particular note, it supports quoting fields with double quotes and the same double doublequote behavior that we saw looking at example CSV encodings.\n",
    "    - Most of the time, these just do not come up at all.\n",
    "    - When they come up, you'll have to decide on a case by case basis whether you want this support or not."
   ]
  },
  {
   "cell_type": "markdown",
   "id": "cd50d5c2",
   "metadata": {},
   "source": [
    "# Handling Different Data Types"
   ]
  },
  {
   "cell_type": "code",
   "execution_count": 8,
   "id": "6c570355",
   "metadata": {},
   "outputs": [],
   "source": [
    "import csv\n",
    " \n",
    "def read_mango_data(filename):\n",
    "    with open(filename) as file:\n",
    "        reader = csv.DictReader(file, dialect=\"excel-tab\")\n",
    "        for row in reader:\n",
    "            for column_name in row:\n",
    "                if column_name != \"mango_id\":\n",
    "                    try:\n",
    "                        row[column_name] = float(row[column_name])\n",
    "                    except:\n",
    "                        row[column_name] = None\n",
    " \n",
    "            yield row"
   ]
  },
  {
   "cell_type": "markdown",
   "id": "dbb312bc",
   "metadata": {},
   "source": [
    "- You may want to convert individual columns instead of looping over all columns, depending on what your data looks like.\n",
    "- float is a reasonable default for most numeric columns, but occasionally int will be preferred."
   ]
  }
 ],
 "metadata": {
  "kernelspec": {
   "display_name": "Python 3",
   "language": "python",
   "name": "python3"
  },
  "language_info": {
   "codemirror_mode": {
    "name": "ipython",
    "version": 3
   },
   "file_extension": ".py",
   "mimetype": "text/x-python",
   "name": "python",
   "nbconvert_exporter": "python",
   "pygments_lexer": "ipython3",
   "version": "3.12.1"
  }
 },
 "nbformat": 4,
 "nbformat_minor": 5
}
